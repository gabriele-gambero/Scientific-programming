{
 "cells": [
  {
   "cell_type": "markdown",
   "source": [
    "## Ex. 1\n",
    "The first Python server presented in the first lecture on network programming does actually not do anything else but to thank the client for the connection. Implement this simple server, plus the simple client from the lecture, and test that they are working. For testing purpose, you can do this all on your local host (no need for an internet connection)."
   ],
   "metadata": {
    "collapsed": false
   },
   "id": "aa762b1f9207dea9"
  },
  {
   "cell_type": "markdown",
   "source": [
    "```{shell}\n",
    "python3 server.py &    \n",
    "[1] 1786\n",
    "\n",
    "python3 client.py      \n",
    "Got connection from  ('127.0.0.1', 42674)\n",
    "b'Thank you for connecting'\n",
    "```\n",
    "For checking if the processes are running:\n",
    "```{shell}\n",
    "jobs\n",
    "```\n",
    "For terminating the process (in this case it's the first process):\n",
    "```{shell}\n",
    "kill %1\n",
    "```\n"
   ],
   "metadata": {
    "collapsed": false
   },
   "id": "df53f0ccc636ded8"
  },
  {
   "cell_type": "markdown",
   "source": [
    "## Ex. 2\n",
    "Let’s make this a little bit more complicated: Write a server whose response depends on a specific request of the client:\n",
    "• If the client sends the request string “time”, the server sends as a response its own local time.\n",
    "• If the client sends the string “nuqneH?”, the server responds with “Qapla’!”\n",
    "• If the client sends anything else, the server works like an echo server, it simply sends the received data back to the client.\n",
    "The client itself should print out what response it received from the server. Test the different answers from the server.\n",
    "[Note: “nuqneH?” ... “Qapla’!” is actually a complete conversation in Klingon :-)]"
   ],
   "metadata": {
    "collapsed": false
   },
   "id": "d945113d90fa525f"
  },
  {
   "cell_type": "markdown",
   "source": [
    "```{shell}\n",
    "python3 server.py &\n",
    " \n",
    "python3 client.py nuqneH?\n",
    "python3 client.py time\n",
    "python3 client.py time is precious\n",
    "\n",
    "kill %2\n",
    "```"
   ],
   "metadata": {
    "collapsed": false
   },
   "id": "59e73ad1f7d2eb18"
  },
  {
   "cell_type": "markdown",
   "source": [
    "---\n",
    "## Ex. 3\n",
    "Implement both the servers and the clients from exercise 1 and 2 in such a way, that they know when they have received the full message from the remote connection."
   ],
   "metadata": {
    "collapsed": false
   },
   "id": "66797b8b28946575"
  },
  {
   "cell_type": "markdown",
   "source": [
    "Already shown in the examples above (using b'\\0' as termination character!)"
   ],
   "metadata": {
    "collapsed": false
   },
   "id": "19e726765f481e63"
  },
  {
   "cell_type": "markdown",
   "source": [
    "NEVER FINISHED."
   ],
   "metadata": {
    "collapsed": false
   },
   "id": "4a955a1fe2ff1ac"
  }
 ],
 "metadata": {
  "kernelspec": {
   "display_name": "Python 3",
   "language": "python",
   "name": "python3"
  },
  "language_info": {
   "codemirror_mode": {
    "name": "ipython",
    "version": 2
   },
   "file_extension": ".py",
   "mimetype": "text/x-python",
   "name": "python",
   "nbconvert_exporter": "python",
   "pygments_lexer": "ipython2",
   "version": "2.7.6"
  }
 },
 "nbformat": 4,
 "nbformat_minor": 5
}
