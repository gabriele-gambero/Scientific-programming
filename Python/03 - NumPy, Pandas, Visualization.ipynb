{
 "cells": [
  {
   "cell_type": "markdown",
   "source": [
    "___\n",
    "---\n",
    "\n",
    "# Part I: NumPy exercises:\n",
    "---"
   ],
   "metadata": {
    "collapsed": false
   },
   "id": "578e521972cccf87"
  },
  {
   "cell_type": "code",
   "execution_count": 1,
   "outputs": [],
   "source": [
    "from IPython.core.interactiveshell import InteractiveShell\n",
    "InteractiveShell.ast_node_interactivity = \"all\""
   ],
   "metadata": {
    "collapsed": false,
    "ExecuteTime": {
     "end_time": "2024-03-14T15:25:26.009671200Z",
     "start_time": "2024-03-14T15:25:25.462780900Z"
    }
   },
   "id": "d30977bddad99988"
  },
  {
   "cell_type": "markdown",
   "source": [
    "## Ex. 1\n",
    "Assume you have a gene expression matrix containing expression levels for N genes (in N matrix rows) in M samples (in M matrix columns). The samples can be separated in two distinct groups or contidions.\n",
    "In WeBeep (materials → exercises) you will find an example file named “GSE16237_series_matrixcleaned-4noamp_vs_4amp.tsv” extracted from a publicly available data set for gene expression levels from **neuroblastoma tumors**. The file contains only a subset of the available samples and does not report sample IDs nor gene IDs (to keep this exercise as simple as possible).\n",
    "\n",
    "Once downloaded, you can read the file as a NumPy array using the function “np.fromfile()”:"
   ],
   "metadata": {
    "collapsed": false
   },
   "id": "c65484b795d1726b"
  },
  {
   "cell_type": "code",
   "execution_count": 2,
   "outputs": [],
   "source": [
    "# pip install numpy (in terminal)\n",
    "import numpy as np\n",
    "ndat = np.fromfile(\"GSE16237_series_matrix-cleaned-4noamp_vs_4amp.tsv\", dtype=float, count=-1, sep='\\t').reshape(20464,8)"
   ],
   "metadata": {
    "collapsed": false,
    "ExecuteTime": {
     "end_time": "2024-03-14T15:25:26.452764400Z",
     "start_time": "2024-03-14T15:25:25.462780900Z"
    }
   },
   "id": "9d6754562b5aa1d7"
  },
  {
   "cell_type": "markdown",
   "source": [
    "As you can guess from the “reshape” transformation, the file contains expression levels for 20,464\n",
    "genes in 8 tumors. The first 4 samples (columns) are for stage 4 tumors which do not harbor an\n",
    "amplification of the MYCN gene, the last 4 samples (columns) are from stage 4 tumors which instead\n",
    "do harbor an amplification of the MYCN gene (massive increase in copy number of that gene, a\n",
    "frequent event in neuroblastomas)."
   ],
   "metadata": {
    "collapsed": false
   },
   "id": "91142de864132a15"
  },
  {
   "cell_type": "markdown",
   "source": [
    "Tasks:\n",
    "a) Perform a (dangerously simplified) column-wise normalization of the expression levels by dividing all expression levels of one sample (one column) by the maximum expression level of that column, such that for each column/sample expression levels range from 0 to 1. [This is not how such data would be normalized, but for the sake of this exercise we will consider it a sufficient approximation although it is not …]"
   ],
   "metadata": {
    "collapsed": false
   },
   "id": "a47c7aeb31da5ef2"
  },
  {
   "cell_type": "code",
   "execution_count": 3,
   "outputs": [],
   "source": [
    "for i in range(ndat.shape[1]):\n",
    "    col_max = np.max(ndat[:,i])\n",
    "    ndat[:,i] = ndat[:,i]/col_max"
   ],
   "metadata": {
    "collapsed": false,
    "ExecuteTime": {
     "end_time": "2024-03-14T15:25:26.461479Z",
     "start_time": "2024-03-14T15:25:26.452764400Z"
    }
   },
   "id": "c38141659ac9bebf"
  },
  {
   "cell_type": "markdown",
   "source": [
    "b) Then, for each of the two conditions (non-amplified stage 4 neuroblastoma versus MYCNamplified stage 4 neuroblastoma), i.e., independently for the first 4 columns and the last 4 columns, identify the row (=position in the file) of the gene with the highest mean expression across the four samples of that condition.\n",
    "Hint: for finding the position (index) of a maximum value in a NumPy array, you can use the function “np.argmax()”!"
   ],
   "metadata": {
    "collapsed": false
   },
   "id": "f0b3e20d63b8da5c"
  },
  {
   "cell_type": "code",
   "execution_count": 4,
   "outputs": [
    {
     "data": {
      "text/plain": "4"
     },
     "execution_count": 4,
     "metadata": {},
     "output_type": "execute_result"
    },
    {
     "data": {
      "text/plain": "range(4, 8)"
     },
     "execution_count": 4,
     "metadata": {},
     "output_type": "execute_result"
    }
   ],
   "source": [
    "first_half = int(ndat.shape[1]/2)\n",
    "second_half = range(int(ndat.shape[1]/2), ndat.shape[1])\n",
    "first_half\n",
    "second_half"
   ],
   "metadata": {
    "collapsed": false,
    "ExecuteTime": {
     "end_time": "2024-03-14T15:25:26.551864500Z",
     "start_time": "2024-03-14T15:25:26.461479Z"
    }
   },
   "id": "e7d89fa8554a47c3"
  },
  {
   "cell_type": "code",
   "execution_count": 5,
   "outputs": [
    {
     "data": {
      "text/plain": "7816"
     },
     "execution_count": 5,
     "metadata": {},
     "output_type": "execute_result"
    },
    {
     "data": {
      "text/plain": "0.9472344118836824"
     },
     "execution_count": 5,
     "metadata": {},
     "output_type": "execute_result"
    },
    {
     "data": {
      "text/plain": "7816"
     },
     "execution_count": 5,
     "metadata": {},
     "output_type": "execute_result"
    },
    {
     "data": {
      "text/plain": "0.9064957172048588"
     },
     "execution_count": 5,
     "metadata": {},
     "output_type": "execute_result"
    }
   ],
   "source": [
    "means_first = np.mean(ndat[:, 0:first_half], axis = 1)\n",
    "first_max_mean = np.argmax(means_first, axis = 0)\n",
    "first_max_mean\n",
    "means_first[first_max_mean]\n",
    "\n",
    "\n",
    "means_second = np.mean(ndat[:, second_half], axis = 1)\n",
    "second_max_mean = np.argmax(means_second, axis = 0)\n",
    "second_max_mean\n",
    "means_second[second_max_mean]"
   ],
   "metadata": {
    "collapsed": false,
    "ExecuteTime": {
     "end_time": "2024-03-14T15:25:26.551864500Z",
     "start_time": "2024-03-14T15:25:26.476278300Z"
    }
   },
   "id": "9b5a90591cd2ceee"
  },
  {
   "cell_type": "markdown",
   "source": [],
   "metadata": {
    "collapsed": false
   },
   "id": "5ee02b8ce102d42c"
  },
  {
   "cell_type": "markdown",
   "source": [
    "---\n",
    "## Ex. 2\n",
    "Assume you have a 1-dimenstional NumPy array of experimental observations/measurements, where each observervation value is >= 0. You can easily construct an arbitrary example vector.\n",
    "Immagine that you want to compute log10 for those observations which are >1, but want to set 0 for all those which are smaller (so you don’t get negative values or even worse, -inf when the observation was 0). Can you do this with a single command?"
   ],
   "metadata": {
    "collapsed": false
   },
   "id": "417494b80f8f090b"
  },
  {
   "cell_type": "code",
   "execution_count": 6,
   "outputs": [
    {
     "data": {
      "text/plain": "array([5.00e-03, 4.05e+00, 1.00e+02, 9.90e-01, 5.00e-01, 1.10e+00])"
     },
     "execution_count": 6,
     "metadata": {},
     "output_type": "execute_result"
    },
    {
     "data": {
      "text/plain": "array([0.        , 0.60745502, 2.        , 0.        , 0.        ,\n       0.04139269])"
     },
     "execution_count": 6,
     "metadata": {},
     "output_type": "execute_result"
    }
   ],
   "source": [
    "my_arr = np.array([0.005, 4.05, 100, 0.99, 0.5, 1.1], dtype = float)\n",
    "my_arr\n",
    "\n",
    "new_arr = np.where(my_arr > 1, np.log10(my_arr), 0)\n",
    "new_arr"
   ],
   "metadata": {
    "collapsed": false,
    "ExecuteTime": {
     "end_time": "2024-03-14T15:25:26.551864500Z",
     "start_time": "2024-03-14T15:25:26.495970900Z"
    }
   },
   "id": "aa3e2f7615100817"
  },
  {
   "cell_type": "markdown",
   "source": [
    "___\n",
    "## Ex. 3\n",
    "The following may be useful for some applications in linear algebra:\n",
    "Find out how to create NumPy quadratic matrices (same number of rows and columns) which have all elements set to 0 except the values on the diagonal using one single command/function call. Create …\n",
    "**(a)** A 4x4 matrix which has all diagonal values set to 1, the rest to 0."
   ],
   "metadata": {
    "collapsed": false
   },
   "id": "819518f41941d9c2"
  },
  {
   "cell_type": "code",
   "execution_count": 7,
   "outputs": [
    {
     "data": {
      "text/plain": "array([[1, 0, 0, 0],\n       [0, 1, 0, 0],\n       [0, 0, 1, 0],\n       [0, 0, 0, 1]])"
     },
     "execution_count": 7,
     "metadata": {},
     "output_type": "execute_result"
    },
    {
     "data": {
      "text/plain": "array([[1., 0., 0., 0.],\n       [0., 1., 0., 0.],\n       [0., 0., 1., 0.],\n       [0., 0., 0., 1.]])"
     },
     "execution_count": 7,
     "metadata": {},
     "output_type": "execute_result"
    }
   ],
   "source": [
    "np.diag(np.ones(4, dtype = int))\n",
    "np.eye(4)"
   ],
   "metadata": {
    "collapsed": false,
    "ExecuteTime": {
     "end_time": "2024-03-14T15:25:26.551864500Z",
     "start_time": "2024-03-14T15:25:26.507644900Z"
    }
   },
   "id": "71cf7ea5e50c2a1b"
  },
  {
   "cell_type": "markdown",
   "source": [
    "\n",
    "(b) A 4x4 matrix which has the diagonal values ranging from 1 to 4, all other values set to 0"
   ],
   "metadata": {
    "collapsed": false
   },
   "id": "cd96f51c16d37749"
  },
  {
   "cell_type": "code",
   "execution_count": 8,
   "outputs": [
    {
     "data": {
      "text/plain": "array([[1, 0, 0, 0],\n       [0, 2, 0, 0],\n       [0, 0, 3, 0],\n       [0, 0, 0, 4]])"
     },
     "execution_count": 8,
     "metadata": {},
     "output_type": "execute_result"
    },
    {
     "data": {
      "text/plain": "array([[1, 0, 0, 0],\n       [0, 2, 0, 0],\n       [0, 0, 3, 0],\n       [0, 0, 0, 4]])"
     },
     "execution_count": 8,
     "metadata": {},
     "output_type": "execute_result"
    }
   ],
   "source": [
    "np.diag(np.array(range(1,5), dtype=int))\n",
    "np.diag([1,2,3,4])"
   ],
   "metadata": {
    "collapsed": false,
    "ExecuteTime": {
     "end_time": "2024-03-14T15:25:26.633324100Z",
     "start_time": "2024-03-14T15:25:26.520635700Z"
    }
   },
   "id": "e9899413c5acfb69"
  },
  {
   "cell_type": "markdown",
   "source": [
    "---\n",
    "## Ex. 4\n",
    "Creation of N-dimensional arrays\n",
    "a) Create a 2-dimensional array with 4 rows and 25 columns containing the natural numbers from 1 to 100. Use a simple command that avoids listing all 100 numbers."
   ],
   "metadata": {
    "collapsed": false
   },
   "id": "1ca3ac41fbe9129c"
  },
  {
   "cell_type": "code",
   "execution_count": 9,
   "outputs": [
    {
     "data": {
      "text/plain": "array([[  1,   2,   3,   4,   5,   6,   7,   8,   9,  10,  11,  12,  13,\n         14,  15,  16,  17,  18,  19,  20,  21,  22,  23,  24,  25],\n       [ 26,  27,  28,  29,  30,  31,  32,  33,  34,  35,  36,  37,  38,\n         39,  40,  41,  42,  43,  44,  45,  46,  47,  48,  49,  50],\n       [ 51,  52,  53,  54,  55,  56,  57,  58,  59,  60,  61,  62,  63,\n         64,  65,  66,  67,  68,  69,  70,  71,  72,  73,  74,  75],\n       [ 76,  77,  78,  79,  80,  81,  82,  83,  84,  85,  86,  87,  88,\n         89,  90,  91,  92,  93,  94,  95,  96,  97,  98,  99, 100]])"
     },
     "execution_count": 9,
     "metadata": {},
     "output_type": "execute_result"
    },
    {
     "data": {
      "text/plain": "array([[ 0,  1,  2,  3,  4,  5,  6,  7,  8,  9, 10, 11, 12, 13, 14, 15,\n        16, 17, 18, 19, 20, 21, 22, 23, 24],\n       [25, 26, 27, 28, 29, 30, 31, 32, 33, 34, 35, 36, 37, 38, 39, 40,\n        41, 42, 43, 44, 45, 46, 47, 48, 49],\n       [50, 51, 52, 53, 54, 55, 56, 57, 58, 59, 60, 61, 62, 63, 64, 65,\n        66, 67, 68, 69, 70, 71, 72, 73, 74],\n       [75, 76, 77, 78, 79, 80, 81, 82, 83, 84, 85, 86, 87, 88, 89, 90,\n        91, 92, 93, 94, 95, 96, 97, 98, 99]])"
     },
     "execution_count": 9,
     "metadata": {},
     "output_type": "execute_result"
    }
   ],
   "source": [
    "np.array(range(1,101),dtype = int).reshape(4,25)\n",
    "np.arange(100).reshape(4,25)"
   ],
   "metadata": {
    "collapsed": false,
    "ExecuteTime": {
     "end_time": "2024-03-14T15:25:26.633324100Z",
     "start_time": "2024-03-14T15:25:26.531837900Z"
    }
   },
   "id": "e44f6af9284b446"
  },
  {
   "cell_type": "markdown",
   "source": [
    "b) Create the same array without specifying the number of columns in your command!"
   ],
   "metadata": {
    "collapsed": false
   },
   "id": "b5da7d8f581f9de5"
  },
  {
   "cell_type": "code",
   "execution_count": 10,
   "outputs": [
    {
     "data": {
      "text/plain": "array([[  1,   2,   3,   4,   5,   6,   7,   8,   9,  10,  11,  12,  13,\n         14,  15,  16,  17,  18,  19,  20,  21,  22,  23,  24,  25],\n       [ 26,  27,  28,  29,  30,  31,  32,  33,  34,  35,  36,  37,  38,\n         39,  40,  41,  42,  43,  44,  45,  46,  47,  48,  49,  50],\n       [ 51,  52,  53,  54,  55,  56,  57,  58,  59,  60,  61,  62,  63,\n         64,  65,  66,  67,  68,  69,  70,  71,  72,  73,  74,  75],\n       [ 76,  77,  78,  79,  80,  81,  82,  83,  84,  85,  86,  87,  88,\n         89,  90,  91,  92,  93,  94,  95,  96,  97,  98,  99, 100]])"
     },
     "execution_count": 10,
     "metadata": {},
     "output_type": "execute_result"
    }
   ],
   "source": [
    "np.arange(1,101).reshape(4,-1)"
   ],
   "metadata": {
    "collapsed": false,
    "ExecuteTime": {
     "end_time": "2024-03-14T15:25:26.633324100Z",
     "start_time": "2024-03-14T15:25:26.542616Z"
    }
   },
   "id": "9118e5d442792f7c"
  },
  {
   "cell_type": "markdown",
   "source": [
    "\n",
    "c) Place the same natural numbers in a 3-dimensional array (choose the necessary number of rows, columns and layers). After having created the array, how can you obtain the number of dimensions, the shape and the content data type from the array object itself?"
   ],
   "metadata": {
    "collapsed": false
   },
   "id": "9e0800b46394b61f"
  },
  {
   "cell_type": "code",
   "execution_count": 11,
   "outputs": [
    {
     "data": {
      "text/plain": "(10, 2, 5)"
     },
     "execution_count": 11,
     "metadata": {},
     "output_type": "execute_result"
    },
    {
     "data": {
      "text/plain": "3"
     },
     "execution_count": 11,
     "metadata": {},
     "output_type": "execute_result"
    },
    {
     "data": {
      "text/plain": "12"
     },
     "execution_count": 11,
     "metadata": {},
     "output_type": "execute_result"
    },
    {
     "data": {
      "text/plain": "array([[[  1,   2,   3,   4,   5],\n        [  6,   7,   8,   9,  10]],\n\n       [[ 11,  12,  13,  14,  15],\n        [ 16,  17,  18,  19,  20]],\n\n       [[ 21,  22,  23,  24,  25],\n        [ 26,  27,  28,  29,  30]],\n\n       [[ 31,  32,  33,  34,  35],\n        [ 36,  37,  38,  39,  40]],\n\n       [[ 41,  42,  43,  44,  45],\n        [ 46,  47,  48,  49,  50]],\n\n       [[ 51,  52,  53,  54,  55],\n        [ 56,  57,  58,  59,  60]],\n\n       [[ 61,  62,  63,  64,  65],\n        [ 66,  67,  68,  69,  70]],\n\n       [[ 71,  72,  73,  74,  75],\n        [ 76,  77,  78,  79,  80]],\n\n       [[ 81,  82,  83,  84,  85],\n        [ 86,  87,  88,  89,  90]],\n\n       [[ 91,  92,  93,  94,  95],\n        [ 96,  97,  98,  99, 100]]])"
     },
     "execution_count": 11,
     "metadata": {},
     "output_type": "execute_result"
    }
   ],
   "source": [
    "a = np.arange(1,101).reshape(10, 2, 5) # layer, row, column\n",
    "a.shape\n",
    "a.ndim\n",
    "a[1,0,1]\n",
    "a"
   ],
   "metadata": {
    "collapsed": false,
    "ExecuteTime": {
     "end_time": "2024-03-14T15:25:26.664597600Z",
     "start_time": "2024-03-14T15:25:26.551864500Z"
    }
   },
   "id": "411b0ef618abe5a3"
  },
  {
   "cell_type": "markdown",
   "source": [
    "d) Copy the array from c) into a new array and modify the copy without modifying the original array."
   ],
   "metadata": {
    "collapsed": false
   },
   "id": "ed7ba33f45a5751f"
  },
  {
   "cell_type": "code",
   "execution_count": 12,
   "outputs": [
    {
     "data": {
      "text/plain": "26"
     },
     "execution_count": 12,
     "metadata": {},
     "output_type": "execute_result"
    },
    {
     "data": {
      "text/plain": "123"
     },
     "execution_count": 12,
     "metadata": {},
     "output_type": "execute_result"
    }
   ],
   "source": [
    "hard_copy_a = a.copy()\n",
    "hard_copy_a[2,1,0] = 123\n",
    "a[2,1,0]\n",
    "hard_copy_a[2,1,0]"
   ],
   "metadata": {
    "collapsed": false,
    "ExecuteTime": {
     "end_time": "2024-03-14T15:25:26.664597600Z",
     "start_time": "2024-03-14T15:25:26.566873400Z"
    }
   },
   "id": "dd4468f7daed414e"
  },
  {
   "cell_type": "markdown",
   "source": [
    "e) Compute the sum of all differences between the array from c) and the array from d). Try using the standard command “sum()” and the NumPy version “np.sum()”. Do you observe the same behavior?"
   ],
   "metadata": {
    "collapsed": false
   },
   "id": "2a0c6ee88c7d2f44"
  },
  {
   "cell_type": "code",
   "execution_count": 13,
   "outputs": [
    {
     "data": {
      "text/plain": "array([[  0,   0,   0,   0,   0],\n       [-97,   0,   0,   0,   0]])"
     },
     "execution_count": 13,
     "metadata": {},
     "output_type": "execute_result"
    },
    {
     "data": {
      "text/plain": "-97"
     },
     "execution_count": 13,
     "metadata": {},
     "output_type": "execute_result"
    }
   ],
   "source": [
    "sum(a-hard_copy_a)\n",
    "np.sum(a-hard_copy_a)"
   ],
   "metadata": {
    "collapsed": false,
    "ExecuteTime": {
     "end_time": "2024-03-14T15:25:27.066281100Z",
     "start_time": "2024-03-14T15:25:26.577948300Z"
    }
   },
   "id": "4f260f99123ea743"
  },
  {
   "cell_type": "markdown",
   "source": [
    "f) The array multiplication with “a*b” of two equally shaped matrices a and b multiplies elementwise the corresponding elements, so it is not a true matrix multiplication. Find out how a true matrix multiplication can be performed in NumPy and perform it by squaring the matrix obtained from a). What shape does the output have?"
   ],
   "metadata": {
    "collapsed": false
   },
   "id": "2e9210df4db67770"
  },
  {
   "cell_type": "markdown",
   "source": [],
   "metadata": {
    "collapsed": false
   },
   "id": "d3bd710dccdad933"
  },
  {
   "cell_type": "code",
   "execution_count": 14,
   "outputs": [
    {
     "data": {
      "text/plain": "(4, 4)"
     },
     "execution_count": 14,
     "metadata": {},
     "output_type": "execute_result"
    },
    {
     "data": {
      "text/plain": "array([[  4900,  12400,  19900,  27400],\n       [ 12400,  35525,  58650,  81775],\n       [ 19900,  58650,  97400, 136150],\n       [ 27400,  81775, 136150, 190525]])"
     },
     "execution_count": 14,
     "metadata": {},
     "output_type": "execute_result"
    }
   ],
   "source": [
    "my_mat = np.arange(100).reshape(4,25)\n",
    "squared_mat = np.matmul(my_mat, np.transpose(my_mat))\n",
    "\n",
    "squared_mat.shape\n",
    "squared_mat"
   ],
   "metadata": {
    "collapsed": false,
    "ExecuteTime": {
     "end_time": "2024-03-14T15:25:27.066281100Z",
     "start_time": "2024-03-14T15:25:26.588653Z"
    }
   },
   "id": "52c1ca6522d194bf"
  },
  {
   "cell_type": "markdown",
   "source": [
    "___\n",
    "## Ex. 5\n",
    "The NumPy function “np.random.random(N)” generates N random numbers in the interval [0.0,1.0), i.e., without the upper boundary 1. Use a simple command to check that for N=100 indeed all returned random numbers are smaller than 1 AND at least 0.\n",
    "Unfortunately performing a logical AND on NumPy arrays does not work with the standard bitwise AND operator (“&”). Can you find out how to perform a logical AND operation on two NumPy arrays?"
   ],
   "metadata": {
    "collapsed": false
   },
   "id": "73246f487f13ca04"
  },
  {
   "cell_type": "code",
   "execution_count": 15,
   "outputs": [
    {
     "data": {
      "text/plain": "array([0.65160116, 0.69893276, 0.63885681, 0.55283114, 0.00151509,\n       0.37707706, 0.09589841, 0.32965977, 0.69339942, 0.63108694,\n       0.62234448, 0.15148226, 0.33249369, 0.30723802, 0.78428213,\n       0.63763704, 0.39932385, 0.1319418 , 0.21049649, 0.29491646,\n       0.24993633, 0.51915339, 0.77639953, 0.01613106, 0.3331384 ,\n       0.11183348, 0.5674965 , 0.67249841, 0.34486842, 0.19523923,\n       0.18438553, 0.20668713, 0.36955637, 0.47204511, 0.41188617,\n       0.94693139, 0.77504436, 0.60597474, 0.73701583, 0.95817656,\n       0.74725308, 0.58658349, 0.9491182 , 0.11022706, 0.04498552,\n       0.74360473, 0.3223938 , 0.31895118, 0.94428228, 0.27691984,\n       0.25273582, 0.93019277, 0.62140131, 0.38708529, 0.23503253,\n       0.60293592, 0.58987272, 0.91085598, 0.58505512, 0.72315333,\n       0.59588448, 0.59488409, 0.24004346, 0.90183277, 0.89794356,\n       0.84997945, 0.09856628, 0.4740369 , 0.12583348, 0.67591077,\n       0.19417265, 0.11230232, 0.00274403, 0.43550072, 0.84731572,\n       0.60943917, 0.31541199, 0.39819536, 0.65494606, 0.46422024,\n       0.97660003, 0.70680291, 0.34016822, 0.31758575, 0.63023181,\n       0.09049757, 0.90435764, 0.91612366, 0.56995627, 0.60455282,\n       0.49469614, 0.41414587, 0.57693943, 0.24843279, 0.49099658,\n       0.12567297, 0.23309874, 0.78874654, 0.58529192, 0.3761157 ])"
     },
     "execution_count": 15,
     "metadata": {},
     "output_type": "execute_result"
    },
    {
     "data": {
      "text/plain": "True"
     },
     "execution_count": 15,
     "metadata": {},
     "output_type": "execute_result"
    }
   ],
   "source": [
    "import random\n",
    "\n",
    "to_check = np.random.random(100)\n",
    "to_check\n",
    "np.logical_and(np.all(to_check < 1), np.any(to_check >= 0))\n"
   ],
   "metadata": {
    "collapsed": false,
    "ExecuteTime": {
     "end_time": "2024-03-14T15:25:27.097529500Z",
     "start_time": "2024-03-14T15:25:26.599630500Z"
    }
   },
   "id": "d55a8e8ab7219bee"
  },
  {
   "cell_type": "code",
   "execution_count": 16,
   "outputs": [
    {
     "data": {
      "text/plain": "False"
     },
     "execution_count": 16,
     "metadata": {},
     "output_type": "execute_result"
    }
   ],
   "source": [
    "# or:\n",
    "np.all( np.logical_and((a<1), (a>=0)) )"
   ],
   "metadata": {
    "collapsed": false,
    "ExecuteTime": {
     "end_time": "2024-03-14T15:25:27.097529500Z",
     "start_time": "2024-03-14T15:25:26.608673400Z"
    }
   },
   "id": "8fdfb02b9ebc64d5"
  },
  {
   "cell_type": "markdown",
   "source": [
    "___\n",
    "___\n",
    "\n",
    "# Part II: Pandas exercises\n",
    "\n",
    "## Ex. 6\n",
    "Create two Pandas series containing the same four integers: 1,2,3,4; one Series with a defined index  and a Series name and one without. Analyze them both. How do they look like, can you note the differences? Can you compare whether the two Series are identical?"
   ],
   "metadata": {
    "collapsed": false
   },
   "id": "175146b56c12caff"
  },
  {
   "cell_type": "code",
   "execution_count": 17,
   "outputs": [
    {
     "data": {
      "text/plain": "one      1\ntwo      2\nthree    3\nfour     4\nName: Defined Serie, dtype: int64"
     },
     "execution_count": 17,
     "metadata": {},
     "output_type": "execute_result"
    },
    {
     "data": {
      "text/plain": "0    1\n1    2\n2    3\n3    4\ndtype: int64"
     },
     "execution_count": 17,
     "metadata": {},
     "output_type": "execute_result"
    }
   ],
   "source": [
    "# pip install pandas in terminal\n",
    "import pandas as pd\n",
    "\n",
    "s1 = pd.Series(range(1,5), index =['one', 'two', 'three', 'four'], name = \"Defined Serie\")\n",
    "s1\n",
    "\n",
    "s2 = pd.Series(range(1,5))\n",
    "s2"
   ],
   "metadata": {
    "collapsed": false,
    "ExecuteTime": {
     "end_time": "2024-03-14T15:25:28.954093700Z",
     "start_time": "2024-03-14T15:25:26.617681200Z"
    }
   },
   "id": "a52c5a6818b4cdea"
  },
  {
   "cell_type": "code",
   "execution_count": 18,
   "outputs": [
    {
     "data": {
      "text/plain": "'Defined Serie'"
     },
     "execution_count": 18,
     "metadata": {},
     "output_type": "execute_result"
    },
    {
     "data": {
      "text/plain": "Index(['one', 'two', 'three', 'four'], dtype='object')"
     },
     "execution_count": 18,
     "metadata": {},
     "output_type": "execute_result"
    },
    {
     "data": {
      "text/plain": "RangeIndex(start=0, stop=4, step=1)"
     },
     "execution_count": 18,
     "metadata": {},
     "output_type": "execute_result"
    },
    {
     "data": {
      "text/plain": "array([ True,  True,  True,  True])"
     },
     "execution_count": 18,
     "metadata": {},
     "output_type": "execute_result"
    },
    {
     "ename": "ValueError",
     "evalue": "Can only compare identically-labeled Series objects",
     "output_type": "error",
     "traceback": [
      "\u001B[1;31m---------------------------------------------------------------------------\u001B[0m",
      "\u001B[1;31mValueError\u001B[0m                                Traceback (most recent call last)",
      "Cell \u001B[1;32mIn[18], line 9\u001B[0m\n\u001B[0;32m      6\u001B[0m s2\u001B[38;5;241m.\u001B[39mindex\n\u001B[0;32m      8\u001B[0m s1\u001B[38;5;241m.\u001B[39mvalues \u001B[38;5;241m==\u001B[39m s2\u001B[38;5;241m.\u001B[39mvalues\n\u001B[1;32m----> 9\u001B[0m \u001B[43ms1\u001B[49m\u001B[43m \u001B[49m\u001B[38;5;241;43m==\u001B[39;49m\u001B[43m \u001B[49m\u001B[43ms2\u001B[49m\n",
      "File \u001B[1;32m~\\OneDrive - Università degli Studi di Milano\\Magistrale - Bioinformatics\\II - Scientific programming\\venv\\Lib\\site-packages\\pandas\\core\\ops\\common.py:76\u001B[0m, in \u001B[0;36m_unpack_zerodim_and_defer.<locals>.new_method\u001B[1;34m(self, other)\u001B[0m\n\u001B[0;32m     72\u001B[0m             \u001B[38;5;28;01mreturn\u001B[39;00m \u001B[38;5;28mNotImplemented\u001B[39m\n\u001B[0;32m     74\u001B[0m other \u001B[38;5;241m=\u001B[39m item_from_zerodim(other)\n\u001B[1;32m---> 76\u001B[0m \u001B[38;5;28;01mreturn\u001B[39;00m \u001B[43mmethod\u001B[49m\u001B[43m(\u001B[49m\u001B[38;5;28;43mself\u001B[39;49m\u001B[43m,\u001B[49m\u001B[43m \u001B[49m\u001B[43mother\u001B[49m\u001B[43m)\u001B[49m\n",
      "File \u001B[1;32m~\\OneDrive - Università degli Studi di Milano\\Magistrale - Bioinformatics\\II - Scientific programming\\venv\\Lib\\site-packages\\pandas\\core\\arraylike.py:40\u001B[0m, in \u001B[0;36mOpsMixin.__eq__\u001B[1;34m(self, other)\u001B[0m\n\u001B[0;32m     38\u001B[0m \u001B[38;5;129m@unpack_zerodim_and_defer\u001B[39m(\u001B[38;5;124m\"\u001B[39m\u001B[38;5;124m__eq__\u001B[39m\u001B[38;5;124m\"\u001B[39m)\n\u001B[0;32m     39\u001B[0m \u001B[38;5;28;01mdef\u001B[39;00m \u001B[38;5;21m__eq__\u001B[39m(\u001B[38;5;28mself\u001B[39m, other):\n\u001B[1;32m---> 40\u001B[0m     \u001B[38;5;28;01mreturn\u001B[39;00m \u001B[38;5;28;43mself\u001B[39;49m\u001B[38;5;241;43m.\u001B[39;49m\u001B[43m_cmp_method\u001B[49m\u001B[43m(\u001B[49m\u001B[43mother\u001B[49m\u001B[43m,\u001B[49m\u001B[43m \u001B[49m\u001B[43moperator\u001B[49m\u001B[38;5;241;43m.\u001B[39;49m\u001B[43meq\u001B[49m\u001B[43m)\u001B[49m\n",
      "File \u001B[1;32m~\\OneDrive - Università degli Studi di Milano\\Magistrale - Bioinformatics\\II - Scientific programming\\venv\\Lib\\site-packages\\pandas\\core\\series.py:6105\u001B[0m, in \u001B[0;36mSeries._cmp_method\u001B[1;34m(self, other, op)\u001B[0m\n\u001B[0;32m   6102\u001B[0m res_name \u001B[38;5;241m=\u001B[39m ops\u001B[38;5;241m.\u001B[39mget_op_result_name(\u001B[38;5;28mself\u001B[39m, other)\n\u001B[0;32m   6104\u001B[0m \u001B[38;5;28;01mif\u001B[39;00m \u001B[38;5;28misinstance\u001B[39m(other, Series) \u001B[38;5;129;01mand\u001B[39;00m \u001B[38;5;129;01mnot\u001B[39;00m \u001B[38;5;28mself\u001B[39m\u001B[38;5;241m.\u001B[39m_indexed_same(other):\n\u001B[1;32m-> 6105\u001B[0m     \u001B[38;5;28;01mraise\u001B[39;00m \u001B[38;5;167;01mValueError\u001B[39;00m(\u001B[38;5;124m\"\u001B[39m\u001B[38;5;124mCan only compare identically-labeled Series objects\u001B[39m\u001B[38;5;124m\"\u001B[39m)\n\u001B[0;32m   6107\u001B[0m lvalues \u001B[38;5;241m=\u001B[39m \u001B[38;5;28mself\u001B[39m\u001B[38;5;241m.\u001B[39m_values\n\u001B[0;32m   6108\u001B[0m rvalues \u001B[38;5;241m=\u001B[39m extract_array(other, extract_numpy\u001B[38;5;241m=\u001B[39m\u001B[38;5;28;01mTrue\u001B[39;00m, extract_range\u001B[38;5;241m=\u001B[39m\u001B[38;5;28;01mTrue\u001B[39;00m)\n",
      "\u001B[1;31mValueError\u001B[0m: Can only compare identically-labeled Series objects"
     ]
    }
   ],
   "source": [
    "# for comparing:\n",
    "s1.name\n",
    "s2.name\n",
    "\n",
    "s1.index\n",
    "s2.index\n",
    "\n",
    "s1.values == s2.values\n",
    "s1 == s2"
   ],
   "metadata": {
    "collapsed": false,
    "ExecuteTime": {
     "end_time": "2024-03-14T15:25:29.911064600Z",
     "start_time": "2024-03-14T15:25:28.954093700Z"
    }
   },
   "id": "2d83fb66e9cb607b"
  },
  {
   "cell_type": "markdown",
   "source": [
    "## Ex. 7\n",
    "Take one of the two Series created above. Let’s say you named it “a”.\n",
    "a) What is the difference (if any) between executing “a[1]” and “a[1:2]” (where the second expression takes the 0-based positions from 1 to 2-1, so from 1 to 1)?"
   ],
   "metadata": {
    "collapsed": false
   },
   "id": "d76894ba9dff5c2"
  },
  {
   "cell_type": "code",
   "execution_count": null,
   "outputs": [],
   "source": [
    "s1[1]\n",
    "s1[1:2]"
   ],
   "metadata": {
    "collapsed": false,
    "ExecuteTime": {
     "end_time": "2024-03-14T15:25:29.926702100Z",
     "start_time": "2024-03-14T15:25:29.911064600Z"
    }
   },
   "id": "cea7edfe49f2070f"
  },
  {
   "cell_type": "markdown",
   "source": [
    "In the first case only the element is printed while in the second the index and the name of the Serie are returned as well."
   ],
   "metadata": {
    "collapsed": false
   },
   "id": "9411a10d67fe2573"
  },
  {
   "cell_type": "markdown",
   "source": [
    "b) Now create a third Series (“c”) with the same for integers (1,2,3,4) and use as index the same integers but in inverted order (4,3,2,1). What do you get now for “c[1]” and “c[1:2]”? Can you explain the observation?"
   ],
   "metadata": {
    "collapsed": false
   },
   "id": "36b0860e50f1cbf8"
  },
  {
   "cell_type": "code",
   "execution_count": null,
   "outputs": [],
   "source": [
    "c = pd.Series(range(1,5), index = range(4,0,-1))\n",
    "c\n",
    "c[1] # this works searching for the index with the same number\n",
    "c[1:2] # this works with the automatic indeces"
   ],
   "metadata": {
    "collapsed": false,
    "ExecuteTime": {
     "start_time": "2024-03-14T15:25:29.911064600Z"
    }
   },
   "id": "eae2e6960f050446"
  },
  {
   "cell_type": "markdown",
   "source": [
    "c) Now try “c.loc[1:2]”. You should get an empty Series. Why is that? How can you fix this? How about “c.iloc[1:2]”. Do you get what you expect?"
   ],
   "metadata": {
    "collapsed": false
   },
   "id": "182c1daec8228e61"
  },
  {
   "cell_type": "code",
   "execution_count": null,
   "outputs": [],
   "source": [
    "c.loc[1:2]\n",
    "c.iloc[1:2]"
   ],
   "metadata": {
    "collapsed": false,
    "ExecuteTime": {
     "start_time": "2024-03-14T15:25:29.926702100Z"
    }
   },
   "id": "c119c5bc11832f51"
  },
  {
   "cell_type": "markdown",
   "source": [
    "## Ex.8\n",
    "PLAY with Pandas Series! Try adding elements, removing elements, overwriting elements, etc! Try missing values! Try whatever comes into your mind and see what happens. And: read some documentation; as usual there is more to discover than what we discussed in the lecture …!"
   ],
   "metadata": {
    "collapsed": false
   },
   "id": "3966a111bb04f5b5"
  },
  {
   "cell_type": "code",
   "execution_count": null,
   "outputs": [],
   "source": [
    "c = pd.Series(range(1,5), index = range(4,0,-1))\n",
    "c\n",
    "c.loc[2] = 'three'\n",
    "c\n",
    "c.iloc[[0,1]] = 'one','two'\n",
    "c\n",
    "c[5] = 'zero'\n",
    "c"
   ],
   "metadata": {
    "collapsed": false,
    "ExecuteTime": {
     "start_time": "2024-03-14T15:25:29.926702100Z"
    }
   },
   "id": "16849ae5208e171b"
  },
  {
   "cell_type": "code",
   "execution_count": null,
   "outputs": [],
   "source": [
    "c = pd.Series(range(1,5), index = range(4,0,-1))\n",
    "c[5] = 'zero'\n",
    "\n",
    "c.drop(5, inplace = True)\n",
    "c\n",
    "c1 = c.drop(4)\n",
    "c1\n",
    "c"
   ],
   "metadata": {
    "collapsed": false,
    "ExecuteTime": {
     "start_time": "2024-03-14T15:25:29.926702100Z"
    }
   },
   "id": "e6cdfda89cbd3713"
  },
  {
   "cell_type": "code",
   "execution_count": null,
   "outputs": [],
   "source": [
    "d = pd.Series(range(1,5), index = ['a', 'b', 'c', 'd'])\n",
    "d\n",
    "d1 = d.truncate('b', 'c')\n",
    "d1"
   ],
   "metadata": {
    "collapsed": false,
    "ExecuteTime": {
     "start_time": "2024-03-14T15:25:29.942326900Z"
    }
   },
   "id": "e97f35789694b2fa"
  },
  {
   "cell_type": "code",
   "execution_count": null,
   "outputs": [],
   "source": [
    "# for inserting missing values\n",
    "e = pd.Series([1, 2], dtype=np.int64).reindex([0, 1, 2])\n",
    "e"
   ],
   "metadata": {
    "collapsed": false,
    "ExecuteTime": {
     "start_time": "2024-03-14T15:25:29.942326900Z"
    }
   },
   "id": "1c4bf727e9066bba"
  },
  {
   "cell_type": "code",
   "execution_count": null,
   "outputs": [],
   "source": [
    "f = pd.Series([[1, 4], [2, 3]], dtype=np.int64).reindex([0, 1, 2])\n",
    "f"
   ],
   "metadata": {
    "collapsed": false,
    "ExecuteTime": {
     "end_time": "2024-03-14T15:25:29.942326900Z",
     "start_time": "2024-03-14T15:25:29.942326900Z"
    }
   },
   "id": "f05be693c90add8a"
  },
  {
   "cell_type": "markdown",
   "source": [
    "---\n",
    "## Ex. 9\n",
    "Pandas DataFrame: Create the first DataFrame “genes” that we saw in the lectures (slide 60), so that you have:\n",
    "geneID chrom protein\n",
    "TP53 7157 17 p53\n",
    "AKT 1 207 14 Akt1\n",
    "RB1 5925 13 pRb\n",
    "a) Add two new columns/data items: “start_pos” and “end_pos” (look up the genes or just invent some positions). Inspect the DataFrame afterwards. Do you get what you expected?"
   ],
   "metadata": {
    "collapsed": false
   },
   "id": "d613c8e426339d47"
  },
  {
   "cell_type": "code",
   "execution_count": 19,
   "outputs": [
    {
     "data": {
      "text/plain": "      geneID  chrom protein\nTP53    7157     17     p53\nAKT1     207     14    Akt1\nRB1     5925     13     pRb",
      "text/html": "<div>\n<style scoped>\n    .dataframe tbody tr th:only-of-type {\n        vertical-align: middle;\n    }\n\n    .dataframe tbody tr th {\n        vertical-align: top;\n    }\n\n    .dataframe thead th {\n        text-align: right;\n    }\n</style>\n<table border=\"1\" class=\"dataframe\">\n  <thead>\n    <tr style=\"text-align: right;\">\n      <th></th>\n      <th>geneID</th>\n      <th>chrom</th>\n      <th>protein</th>\n    </tr>\n  </thead>\n  <tbody>\n    <tr>\n      <th>TP53</th>\n      <td>7157</td>\n      <td>17</td>\n      <td>p53</td>\n    </tr>\n    <tr>\n      <th>AKT1</th>\n      <td>207</td>\n      <td>14</td>\n      <td>Akt1</td>\n    </tr>\n    <tr>\n      <th>RB1</th>\n      <td>5925</td>\n      <td>13</td>\n      <td>pRb</td>\n    </tr>\n  </tbody>\n</table>\n</div>"
     },
     "execution_count": 19,
     "metadata": {},
     "output_type": "execute_result"
    }
   ],
   "source": [
    "indices = ['geneID', 'chrom', 'protein']\n",
    "\n",
    "g1 = pd.Series([7157, 17, 'p53'], index = indices, name = 'TP53')\n",
    "g2 = pd.Series([207, 14, 'Akt1'], index = indices, name = 'AKT1')\n",
    "g3 = pd.Series([5925, 13, 'pRb'], index = indices, name = 'RB1')\n",
    "\n",
    "genes = pd.DataFrame([g1, g2, g3])\n",
    "genes"
   ],
   "metadata": {
    "collapsed": false,
    "ExecuteTime": {
     "end_time": "2024-03-14T15:42:44.881304800Z",
     "start_time": "2024-03-14T15:42:44.770959400Z"
    }
   },
   "id": "fa6deb24f123d4a2"
  },
  {
   "cell_type": "code",
   "execution_count": 20,
   "outputs": [
    {
     "data": {
      "text/plain": "      geneID  chrom protein  start_pos    end_pos\nTP53    7157     17     p53    7668421    7687490\nAKT1     207     14    Akt1  104769349  104795748\nRB1     5925     13     pRb   48303751   48481890",
      "text/html": "<div>\n<style scoped>\n    .dataframe tbody tr th:only-of-type {\n        vertical-align: middle;\n    }\n\n    .dataframe tbody tr th {\n        vertical-align: top;\n    }\n\n    .dataframe thead th {\n        text-align: right;\n    }\n</style>\n<table border=\"1\" class=\"dataframe\">\n  <thead>\n    <tr style=\"text-align: right;\">\n      <th></th>\n      <th>geneID</th>\n      <th>chrom</th>\n      <th>protein</th>\n      <th>start_pos</th>\n      <th>end_pos</th>\n    </tr>\n  </thead>\n  <tbody>\n    <tr>\n      <th>TP53</th>\n      <td>7157</td>\n      <td>17</td>\n      <td>p53</td>\n      <td>7668421</td>\n      <td>7687490</td>\n    </tr>\n    <tr>\n      <th>AKT1</th>\n      <td>207</td>\n      <td>14</td>\n      <td>Akt1</td>\n      <td>104769349</td>\n      <td>104795748</td>\n    </tr>\n    <tr>\n      <th>RB1</th>\n      <td>5925</td>\n      <td>13</td>\n      <td>pRb</td>\n      <td>48303751</td>\n      <td>48481890</td>\n    </tr>\n  </tbody>\n</table>\n</div>"
     },
     "execution_count": 20,
     "metadata": {},
     "output_type": "execute_result"
    }
   ],
   "source": [
    "genes['start_pos'] = [7668421, 104769349, 48303751]\n",
    "genes['end_pos'] = [7687490, 104795748, 48481890]\n",
    "genes"
   ],
   "metadata": {
    "collapsed": false,
    "ExecuteTime": {
     "end_time": "2024-03-14T15:42:47.621644Z",
     "start_time": "2024-03-14T15:42:47.607645900Z"
    }
   },
   "id": "ec26172dc47ecd8f"
  },
  {
   "cell_type": "markdown",
   "source": [
    "b) Add a derived data item “length” determined from the chromosomal positions added in a)"
   ],
   "metadata": {
    "collapsed": false
   },
   "id": "285dbb471dffbba6"
  },
  {
   "cell_type": "code",
   "execution_count": 21,
   "outputs": [
    {
     "data": {
      "text/plain": "      geneID  chrom protein  start_pos    end_pos  length\nTP53    7157     17     p53    7668421    7687490   19070\nAKT1     207     14    Akt1  104769349  104795748   26400\nRB1     5925     13     pRb   48303751   48481890  178140",
      "text/html": "<div>\n<style scoped>\n    .dataframe tbody tr th:only-of-type {\n        vertical-align: middle;\n    }\n\n    .dataframe tbody tr th {\n        vertical-align: top;\n    }\n\n    .dataframe thead th {\n        text-align: right;\n    }\n</style>\n<table border=\"1\" class=\"dataframe\">\n  <thead>\n    <tr style=\"text-align: right;\">\n      <th></th>\n      <th>geneID</th>\n      <th>chrom</th>\n      <th>protein</th>\n      <th>start_pos</th>\n      <th>end_pos</th>\n      <th>length</th>\n    </tr>\n  </thead>\n  <tbody>\n    <tr>\n      <th>TP53</th>\n      <td>7157</td>\n      <td>17</td>\n      <td>p53</td>\n      <td>7668421</td>\n      <td>7687490</td>\n      <td>19070</td>\n    </tr>\n    <tr>\n      <th>AKT1</th>\n      <td>207</td>\n      <td>14</td>\n      <td>Akt1</td>\n      <td>104769349</td>\n      <td>104795748</td>\n      <td>26400</td>\n    </tr>\n    <tr>\n      <th>RB1</th>\n      <td>5925</td>\n      <td>13</td>\n      <td>pRb</td>\n      <td>48303751</td>\n      <td>48481890</td>\n      <td>178140</td>\n    </tr>\n  </tbody>\n</table>\n</div>"
     },
     "execution_count": 21,
     "metadata": {},
     "output_type": "execute_result"
    }
   ],
   "source": [
    "genes['length'] = genes['end_pos'] - genes['start_pos'] + 1\n",
    "genes"
   ],
   "metadata": {
    "collapsed": false,
    "ExecuteTime": {
     "end_time": "2024-03-14T15:42:53.411533Z",
     "start_time": "2024-03-14T15:42:53.397139100Z"
    }
   },
   "id": "515490c48d13757c"
  },
  {
   "cell_type": "markdown",
   "source": [
    "c) Use single command/expression to get the start position of all genes which have a chromosome number of <=14. Try to get the list of starting positions both as a Pandas Series and as a NumPy array!"
   ],
   "metadata": {
    "collapsed": false
   },
   "id": "98d3c86dd09c0066"
  },
  {
   "cell_type": "code",
   "execution_count": 22,
   "outputs": [
    {
     "data": {
      "text/plain": "TP53            NaN\nAKT1    104769349.0\nRB1      48303751.0\nName: start_pos, dtype: float64"
     },
     "execution_count": 22,
     "metadata": {},
     "output_type": "execute_result"
    },
    {
     "data": {
      "text/plain": "array([           nan, 1.04769349e+08, 4.83037510e+07])"
     },
     "execution_count": 22,
     "metadata": {},
     "output_type": "execute_result"
    }
   ],
   "source": [
    "genes['start_pos'].where(genes['chrom'] <= 14)\n",
    "np.array(genes['start_pos'].where(genes['chrom'] <= 14))"
   ],
   "metadata": {
    "collapsed": false,
    "ExecuteTime": {
     "end_time": "2024-03-14T15:42:56.270411300Z",
     "start_time": "2024-03-14T15:42:56.240769400Z"
    }
   },
   "id": "9a19191866e18f90"
  },
  {
   "cell_type": "code",
   "execution_count": 23,
   "outputs": [
    {
     "data": {
      "text/plain": "AKT1    104769349\nRB1      48303751\nName: start_pos, dtype: int64"
     },
     "execution_count": 23,
     "metadata": {},
     "output_type": "execute_result"
    },
    {
     "data": {
      "text/plain": "array([104769349,  48303751], dtype=int64)"
     },
     "execution_count": 23,
     "metadata": {},
     "output_type": "execute_result"
    }
   ],
   "source": [
    "# correct form\n",
    "genes[genes['chrom'] <= 14]['start_pos'] # Pandas series\n",
    "genes[genes['chrom'] <= 14]['start_pos'].values # NumPy array"
   ],
   "metadata": {
    "collapsed": false,
    "ExecuteTime": {
     "end_time": "2024-03-14T15:42:58.560263100Z",
     "start_time": "2024-03-14T15:42:58.531312800Z"
    }
   },
   "id": "17c7c782899283b2"
  },
  {
   "cell_type": "markdown",
   "source": [
    "## Ex. 10\n",
    "PLAY with DataFrames! Drop rows and columns!\n",
    "Try to write the data to a CSV file, etc! Read some documentation and then write the data also as TSV!\n",
    "Concatenate the DataFrame with itself!\n",
    "Define a second DataFrame using the same geneIDs (but partly different genes) and containing different information (e.g., gene description, biotype, etc); then merge/join the two DataFrames in different ways (inner, outer, left, right)."
   ],
   "metadata": {
    "collapsed": false
   },
   "id": "6074e67ab91d5dd"
  },
  {
   "cell_type": "code",
   "execution_count": 34,
   "outputs": [
    {
     "data": {
      "text/plain": "        geneID  chrom protein  start_pos  end_pos  length\nTSEN54  283989     16    Tsen         40      500     461\nADAM17    6868     21  Adam17        100     3000    2901\nGYPA      2993      5    Gypa       5400     6000     601",
      "text/html": "<div>\n<style scoped>\n    .dataframe tbody tr th:only-of-type {\n        vertical-align: middle;\n    }\n\n    .dataframe tbody tr th {\n        vertical-align: top;\n    }\n\n    .dataframe thead th {\n        text-align: right;\n    }\n</style>\n<table border=\"1\" class=\"dataframe\">\n  <thead>\n    <tr style=\"text-align: right;\">\n      <th></th>\n      <th>geneID</th>\n      <th>chrom</th>\n      <th>protein</th>\n      <th>start_pos</th>\n      <th>end_pos</th>\n      <th>length</th>\n    </tr>\n  </thead>\n  <tbody>\n    <tr>\n      <th>TSEN54</th>\n      <td>283989</td>\n      <td>16</td>\n      <td>Tsen</td>\n      <td>40</td>\n      <td>500</td>\n      <td>461</td>\n    </tr>\n    <tr>\n      <th>ADAM17</th>\n      <td>6868</td>\n      <td>21</td>\n      <td>Adam17</td>\n      <td>100</td>\n      <td>3000</td>\n      <td>2901</td>\n    </tr>\n    <tr>\n      <th>GYPA</th>\n      <td>2993</td>\n      <td>5</td>\n      <td>Gypa</td>\n      <td>5400</td>\n      <td>6000</td>\n      <td>601</td>\n    </tr>\n  </tbody>\n</table>\n</div>"
     },
     "execution_count": 34,
     "metadata": {},
     "output_type": "execute_result"
    }
   ],
   "source": [
    "g4 = pd.Series([283989, 16, 'Tsen', 40, 500, 461], index = genes.columns, name = 'TSEN54') \n",
    "g5 = pd.Series([6868, 21, 'Adam17', 100, 3000, 2901], index = genes.columns, name = 'ADAM17') \n",
    "g6 = pd.Series([2993, 5, 'Gypa', 5400, 6000, 601], index = genes.columns, name = 'GYPA') \n",
    "\n",
    "other_genes = pd.DataFrame([g4, g5, g6])\n",
    "other_genes"
   ],
   "metadata": {
    "collapsed": false,
    "ExecuteTime": {
     "end_time": "2024-03-14T16:17:31.083994Z",
     "start_time": "2024-03-14T16:17:31.060450800Z"
    }
   },
   "id": "18d917e00ace6a2"
  },
  {
   "cell_type": "code",
   "execution_count": 39,
   "outputs": [
    {
     "data": {
      "text/plain": "        geneID  chrom protein  start_pos    end_pos  length\nTP53      7157     17     p53    7668421    7687490   19070\nAKT1       207     14    Akt1  104769349  104795748   26400\nRB1       5925     13     pRb   48303751   48481890  178140\nTSEN54  283989     16    Tsen         40        500     461\nADAM17    6868     21  Adam17        100       3000    2901\nGYPA      2993      5    Gypa       5400       6000     601",
      "text/html": "<div>\n<style scoped>\n    .dataframe tbody tr th:only-of-type {\n        vertical-align: middle;\n    }\n\n    .dataframe tbody tr th {\n        vertical-align: top;\n    }\n\n    .dataframe thead th {\n        text-align: right;\n    }\n</style>\n<table border=\"1\" class=\"dataframe\">\n  <thead>\n    <tr style=\"text-align: right;\">\n      <th></th>\n      <th>geneID</th>\n      <th>chrom</th>\n      <th>protein</th>\n      <th>start_pos</th>\n      <th>end_pos</th>\n      <th>length</th>\n    </tr>\n  </thead>\n  <tbody>\n    <tr>\n      <th>TP53</th>\n      <td>7157</td>\n      <td>17</td>\n      <td>p53</td>\n      <td>7668421</td>\n      <td>7687490</td>\n      <td>19070</td>\n    </tr>\n    <tr>\n      <th>AKT1</th>\n      <td>207</td>\n      <td>14</td>\n      <td>Akt1</td>\n      <td>104769349</td>\n      <td>104795748</td>\n      <td>26400</td>\n    </tr>\n    <tr>\n      <th>RB1</th>\n      <td>5925</td>\n      <td>13</td>\n      <td>pRb</td>\n      <td>48303751</td>\n      <td>48481890</td>\n      <td>178140</td>\n    </tr>\n    <tr>\n      <th>TSEN54</th>\n      <td>283989</td>\n      <td>16</td>\n      <td>Tsen</td>\n      <td>40</td>\n      <td>500</td>\n      <td>461</td>\n    </tr>\n    <tr>\n      <th>ADAM17</th>\n      <td>6868</td>\n      <td>21</td>\n      <td>Adam17</td>\n      <td>100</td>\n      <td>3000</td>\n      <td>2901</td>\n    </tr>\n    <tr>\n      <th>GYPA</th>\n      <td>2993</td>\n      <td>5</td>\n      <td>Gypa</td>\n      <td>5400</td>\n      <td>6000</td>\n      <td>601</td>\n    </tr>\n  </tbody>\n</table>\n</div>"
     },
     "execution_count": 39,
     "metadata": {},
     "output_type": "execute_result"
    }
   ],
   "source": [
    "all_genes = pd.concat([genes, other_genes])\n",
    "all_genes"
   ],
   "metadata": {
    "collapsed": false,
    "ExecuteTime": {
     "end_time": "2024-03-14T16:22:13.055328500Z",
     "start_time": "2024-03-14T16:22:13.022308300Z"
    }
   },
   "id": "c97a28b0bc58b27d"
  },
  {
   "cell_type": "code",
   "execution_count": 40,
   "outputs": [
    {
     "data": {
      "text/plain": "        geneID  chrom protein  start_pos    end_pos  length\nTP53      7157     17     p53    7668421    7687490   19070\nAKT1       207     14    Akt1  104769349  104795748   26400\nRB1       5925     13     pRb   48303751   48481890  178140\nTSEN54  283989     16    Tsen         40        500     461\nADAM17    6868     21  Adam17        100       3000    2901\nGYPA      2993      5    Gypa       5400       6000     601\nTP53      7157     17     p53    7668421    7687490   19070\nAKT1       207     14    Akt1  104769349  104795748   26400\nRB1       5925     13     pRb   48303751   48481890  178140\nTSEN54  283989     16    Tsen         40        500     461\nADAM17    6868     21  Adam17        100       3000    2901\nGYPA      2993      5    Gypa       5400       6000     601",
      "text/html": "<div>\n<style scoped>\n    .dataframe tbody tr th:only-of-type {\n        vertical-align: middle;\n    }\n\n    .dataframe tbody tr th {\n        vertical-align: top;\n    }\n\n    .dataframe thead th {\n        text-align: right;\n    }\n</style>\n<table border=\"1\" class=\"dataframe\">\n  <thead>\n    <tr style=\"text-align: right;\">\n      <th></th>\n      <th>geneID</th>\n      <th>chrom</th>\n      <th>protein</th>\n      <th>start_pos</th>\n      <th>end_pos</th>\n      <th>length</th>\n    </tr>\n  </thead>\n  <tbody>\n    <tr>\n      <th>TP53</th>\n      <td>7157</td>\n      <td>17</td>\n      <td>p53</td>\n      <td>7668421</td>\n      <td>7687490</td>\n      <td>19070</td>\n    </tr>\n    <tr>\n      <th>AKT1</th>\n      <td>207</td>\n      <td>14</td>\n      <td>Akt1</td>\n      <td>104769349</td>\n      <td>104795748</td>\n      <td>26400</td>\n    </tr>\n    <tr>\n      <th>RB1</th>\n      <td>5925</td>\n      <td>13</td>\n      <td>pRb</td>\n      <td>48303751</td>\n      <td>48481890</td>\n      <td>178140</td>\n    </tr>\n    <tr>\n      <th>TSEN54</th>\n      <td>283989</td>\n      <td>16</td>\n      <td>Tsen</td>\n      <td>40</td>\n      <td>500</td>\n      <td>461</td>\n    </tr>\n    <tr>\n      <th>ADAM17</th>\n      <td>6868</td>\n      <td>21</td>\n      <td>Adam17</td>\n      <td>100</td>\n      <td>3000</td>\n      <td>2901</td>\n    </tr>\n    <tr>\n      <th>GYPA</th>\n      <td>2993</td>\n      <td>5</td>\n      <td>Gypa</td>\n      <td>5400</td>\n      <td>6000</td>\n      <td>601</td>\n    </tr>\n    <tr>\n      <th>TP53</th>\n      <td>7157</td>\n      <td>17</td>\n      <td>p53</td>\n      <td>7668421</td>\n      <td>7687490</td>\n      <td>19070</td>\n    </tr>\n    <tr>\n      <th>AKT1</th>\n      <td>207</td>\n      <td>14</td>\n      <td>Akt1</td>\n      <td>104769349</td>\n      <td>104795748</td>\n      <td>26400</td>\n    </tr>\n    <tr>\n      <th>RB1</th>\n      <td>5925</td>\n      <td>13</td>\n      <td>pRb</td>\n      <td>48303751</td>\n      <td>48481890</td>\n      <td>178140</td>\n    </tr>\n    <tr>\n      <th>TSEN54</th>\n      <td>283989</td>\n      <td>16</td>\n      <td>Tsen</td>\n      <td>40</td>\n      <td>500</td>\n      <td>461</td>\n    </tr>\n    <tr>\n      <th>ADAM17</th>\n      <td>6868</td>\n      <td>21</td>\n      <td>Adam17</td>\n      <td>100</td>\n      <td>3000</td>\n      <td>2901</td>\n    </tr>\n    <tr>\n      <th>GYPA</th>\n      <td>2993</td>\n      <td>5</td>\n      <td>Gypa</td>\n      <td>5400</td>\n      <td>6000</td>\n      <td>601</td>\n    </tr>\n  </tbody>\n</table>\n</div>"
     },
     "execution_count": 40,
     "metadata": {},
     "output_type": "execute_result"
    }
   ],
   "source": [
    "pd.concat([all_genes, all_genes])"
   ],
   "metadata": {
    "collapsed": false,
    "ExecuteTime": {
     "end_time": "2024-03-14T16:22:38.036894700Z",
     "start_time": "2024-03-14T16:22:37.993240100Z"
    }
   },
   "id": "defc028f692ab1b4"
  },
  {
   "cell_type": "code",
   "execution_count": 41,
   "outputs": [],
   "source": [
    "all_genes.drop('GYPA', inplace = True, axis = 0)"
   ],
   "metadata": {
    "collapsed": false,
    "ExecuteTime": {
     "end_time": "2024-03-14T16:28:26.121902900Z",
     "start_time": "2024-03-14T16:28:26.108089900Z"
    }
   },
   "id": "e9ed89b71967ed1"
  },
  {
   "cell_type": "code",
   "execution_count": 43,
   "outputs": [
    {
     "data": {
      "text/plain": "        geneID  chrom protein  start_pos    end_pos\nTP53      7157     17     p53    7668421    7687490\nAKT1       207     14    Akt1  104769349  104795748\nRB1       5925     13     pRb   48303751   48481890\nTSEN54  283989     16    Tsen         40        500\nADAM17    6868     21  Adam17        100       3000",
      "text/html": "<div>\n<style scoped>\n    .dataframe tbody tr th:only-of-type {\n        vertical-align: middle;\n    }\n\n    .dataframe tbody tr th {\n        vertical-align: top;\n    }\n\n    .dataframe thead th {\n        text-align: right;\n    }\n</style>\n<table border=\"1\" class=\"dataframe\">\n  <thead>\n    <tr style=\"text-align: right;\">\n      <th></th>\n      <th>geneID</th>\n      <th>chrom</th>\n      <th>protein</th>\n      <th>start_pos</th>\n      <th>end_pos</th>\n    </tr>\n  </thead>\n  <tbody>\n    <tr>\n      <th>TP53</th>\n      <td>7157</td>\n      <td>17</td>\n      <td>p53</td>\n      <td>7668421</td>\n      <td>7687490</td>\n    </tr>\n    <tr>\n      <th>AKT1</th>\n      <td>207</td>\n      <td>14</td>\n      <td>Akt1</td>\n      <td>104769349</td>\n      <td>104795748</td>\n    </tr>\n    <tr>\n      <th>RB1</th>\n      <td>5925</td>\n      <td>13</td>\n      <td>pRb</td>\n      <td>48303751</td>\n      <td>48481890</td>\n    </tr>\n    <tr>\n      <th>TSEN54</th>\n      <td>283989</td>\n      <td>16</td>\n      <td>Tsen</td>\n      <td>40</td>\n      <td>500</td>\n    </tr>\n    <tr>\n      <th>ADAM17</th>\n      <td>6868</td>\n      <td>21</td>\n      <td>Adam17</td>\n      <td>100</td>\n      <td>3000</td>\n    </tr>\n  </tbody>\n</table>\n</div>"
     },
     "execution_count": 43,
     "metadata": {},
     "output_type": "execute_result"
    }
   ],
   "source": [
    "all_genes.drop('length', inplace = False, axis = 1)"
   ],
   "metadata": {
    "collapsed": false,
    "ExecuteTime": {
     "end_time": "2024-03-14T16:29:28.214319700Z",
     "start_time": "2024-03-14T16:29:28.178285500Z"
    }
   },
   "id": "8ff96f97ea1d3994"
  },
  {
   "cell_type": "markdown",
   "source": [
    "- .csv file"
   ],
   "metadata": {
    "collapsed": false
   },
   "id": "d5ff745034b0b7ba"
  },
  {
   "cell_type": "code",
   "execution_count": 44,
   "outputs": [],
   "source": [
    "all_genes = pd.concat([genes, other_genes])\n",
    "all_genes.to_csv(\"all_genes.csv\")"
   ],
   "metadata": {
    "collapsed": false,
    "ExecuteTime": {
     "end_time": "2024-03-14T16:33:29.781308300Z",
     "start_time": "2024-03-14T16:33:29.708549800Z"
    }
   },
   "id": "2a7e6d0bc6361867"
  },
  {
   "cell_type": "code",
   "execution_count": 53,
   "outputs": [
    {
     "data": {
      "text/plain": "        geneID  chrom protein  start_pos    end_pos  length\nTP53      7157     17     p53    7668421    7687490   19070\nAKT1       207     14    Akt1  104769349  104795748   26400\nRB1       5925     13     pRb   48303751   48481890  178140\nTSEN54  283989     16    Tsen         40        500     461\nADAM17    6868     21  Adam17        100       3000    2901\nGYPA      2993      5    Gypa       5400       6000     601",
      "text/html": "<div>\n<style scoped>\n    .dataframe tbody tr th:only-of-type {\n        vertical-align: middle;\n    }\n\n    .dataframe tbody tr th {\n        vertical-align: top;\n    }\n\n    .dataframe thead th {\n        text-align: right;\n    }\n</style>\n<table border=\"1\" class=\"dataframe\">\n  <thead>\n    <tr style=\"text-align: right;\">\n      <th></th>\n      <th>geneID</th>\n      <th>chrom</th>\n      <th>protein</th>\n      <th>start_pos</th>\n      <th>end_pos</th>\n      <th>length</th>\n    </tr>\n  </thead>\n  <tbody>\n    <tr>\n      <th>TP53</th>\n      <td>7157</td>\n      <td>17</td>\n      <td>p53</td>\n      <td>7668421</td>\n      <td>7687490</td>\n      <td>19070</td>\n    </tr>\n    <tr>\n      <th>AKT1</th>\n      <td>207</td>\n      <td>14</td>\n      <td>Akt1</td>\n      <td>104769349</td>\n      <td>104795748</td>\n      <td>26400</td>\n    </tr>\n    <tr>\n      <th>RB1</th>\n      <td>5925</td>\n      <td>13</td>\n      <td>pRb</td>\n      <td>48303751</td>\n      <td>48481890</td>\n      <td>178140</td>\n    </tr>\n    <tr>\n      <th>TSEN54</th>\n      <td>283989</td>\n      <td>16</td>\n      <td>Tsen</td>\n      <td>40</td>\n      <td>500</td>\n      <td>461</td>\n    </tr>\n    <tr>\n      <th>ADAM17</th>\n      <td>6868</td>\n      <td>21</td>\n      <td>Adam17</td>\n      <td>100</td>\n      <td>3000</td>\n      <td>2901</td>\n    </tr>\n    <tr>\n      <th>GYPA</th>\n      <td>2993</td>\n      <td>5</td>\n      <td>Gypa</td>\n      <td>5400</td>\n      <td>6000</td>\n      <td>601</td>\n    </tr>\n  </tbody>\n</table>\n</div>"
     },
     "execution_count": 53,
     "metadata": {},
     "output_type": "execute_result"
    }
   ],
   "source": [
    "df = pd.read_csv(\"all_genes.csv\", index_col = 'Unnamed: 0')\n",
    "df"
   ],
   "metadata": {
    "collapsed": false,
    "ExecuteTime": {
     "end_time": "2024-03-14T16:46:37.368518100Z",
     "start_time": "2024-03-14T16:46:37.333427100Z"
    }
   },
   "id": "b9c0e16ef4ce066e"
  },
  {
   "cell_type": "markdown",
   "source": [
    "- .tsv file"
   ],
   "metadata": {
    "collapsed": false
   },
   "id": "45ee92869167b46f"
  },
  {
   "cell_type": "code",
   "execution_count": 51,
   "outputs": [],
   "source": [
    "all_genes.to_csv(\"all_genes.tsv\", sep = '\\t', header = 0)"
   ],
   "metadata": {
    "collapsed": false,
    "ExecuteTime": {
     "end_time": "2024-03-14T16:45:54.178303Z",
     "start_time": "2024-03-14T16:45:54.150432300Z"
    }
   },
   "id": "a7ad88080e7473e5"
  },
  {
   "cell_type": "code",
   "execution_count": 52,
   "outputs": [
    {
     "data": {
      "text/plain": "     TP53    7157  17     p53    7668421    7687490   19070\n0    AKT1     207  14    Akt1  104769349  104795748   26400\n1     RB1    5925  13     pRb   48303751   48481890  178140\n2  TSEN54  283989  16    Tsen         40        500     461\n3  ADAM17    6868  21  Adam17        100       3000    2901\n4    GYPA    2993   5    Gypa       5400       6000     601",
      "text/html": "<div>\n<style scoped>\n    .dataframe tbody tr th:only-of-type {\n        vertical-align: middle;\n    }\n\n    .dataframe tbody tr th {\n        vertical-align: top;\n    }\n\n    .dataframe thead th {\n        text-align: right;\n    }\n</style>\n<table border=\"1\" class=\"dataframe\">\n  <thead>\n    <tr style=\"text-align: right;\">\n      <th></th>\n      <th>TP53</th>\n      <th>7157</th>\n      <th>17</th>\n      <th>p53</th>\n      <th>7668421</th>\n      <th>7687490</th>\n      <th>19070</th>\n    </tr>\n  </thead>\n  <tbody>\n    <tr>\n      <th>0</th>\n      <td>AKT1</td>\n      <td>207</td>\n      <td>14</td>\n      <td>Akt1</td>\n      <td>104769349</td>\n      <td>104795748</td>\n      <td>26400</td>\n    </tr>\n    <tr>\n      <th>1</th>\n      <td>RB1</td>\n      <td>5925</td>\n      <td>13</td>\n      <td>pRb</td>\n      <td>48303751</td>\n      <td>48481890</td>\n      <td>178140</td>\n    </tr>\n    <tr>\n      <th>2</th>\n      <td>TSEN54</td>\n      <td>283989</td>\n      <td>16</td>\n      <td>Tsen</td>\n      <td>40</td>\n      <td>500</td>\n      <td>461</td>\n    </tr>\n    <tr>\n      <th>3</th>\n      <td>ADAM17</td>\n      <td>6868</td>\n      <td>21</td>\n      <td>Adam17</td>\n      <td>100</td>\n      <td>3000</td>\n      <td>2901</td>\n    </tr>\n    <tr>\n      <th>4</th>\n      <td>GYPA</td>\n      <td>2993</td>\n      <td>5</td>\n      <td>Gypa</td>\n      <td>5400</td>\n      <td>6000</td>\n      <td>601</td>\n    </tr>\n  </tbody>\n</table>\n</div>"
     },
     "execution_count": 52,
     "metadata": {},
     "output_type": "execute_result"
    }
   ],
   "source": [
    "tabs = pd.read_csv('all_genes.tsv', sep = '\\t', header = 0)\n",
    "tabs"
   ],
   "metadata": {
    "collapsed": false,
    "ExecuteTime": {
     "end_time": "2024-03-14T16:45:55.157127300Z",
     "start_time": "2024-03-14T16:45:55.139471400Z"
    }
   },
   "id": "97470c0d82e26e2f"
  },
  {
   "cell_type": "code",
   "execution_count": 55,
   "outputs": [
    {
     "data": {
      "text/plain": "      geneID                  description biotype\nTP53    7157  can cause tumor if modified     hum\nAKT1     207                          boh     dog\nRB1     5925             rhythm and blues     cat",
      "text/html": "<div>\n<style scoped>\n    .dataframe tbody tr th:only-of-type {\n        vertical-align: middle;\n    }\n\n    .dataframe tbody tr th {\n        vertical-align: top;\n    }\n\n    .dataframe thead th {\n        text-align: right;\n    }\n</style>\n<table border=\"1\" class=\"dataframe\">\n  <thead>\n    <tr style=\"text-align: right;\">\n      <th></th>\n      <th>geneID</th>\n      <th>description</th>\n      <th>biotype</th>\n    </tr>\n  </thead>\n  <tbody>\n    <tr>\n      <th>TP53</th>\n      <td>7157</td>\n      <td>can cause tumor if modified</td>\n      <td>hum</td>\n    </tr>\n    <tr>\n      <th>AKT1</th>\n      <td>207</td>\n      <td>boh</td>\n      <td>dog</td>\n    </tr>\n    <tr>\n      <th>RB1</th>\n      <td>5925</td>\n      <td>rhythm and blues</td>\n      <td>cat</td>\n    </tr>\n  </tbody>\n</table>\n</div>"
     },
     "execution_count": 55,
     "metadata": {},
     "output_type": "execute_result"
    }
   ],
   "source": [
    "other_indices = ['geneID', 'description', 'biotype']\n",
    "\n",
    "g7 = pd.Series([7157, 'can cause tumor if modified', 'hum'], index = other_indices, name = 'TP53')\n",
    "g8 = pd.Series([207, 'boh', 'dog'], index = other_indices, name = 'AKT1')\n",
    "g9 = pd.Series([5925, 'rhythm and blues', 'cat'], index = other_indices, name = 'RB1')\n",
    "\n",
    "fake_genes = pd.DataFrame([g7, g8, g9])\n",
    "fake_genes"
   ],
   "metadata": {
    "collapsed": false,
    "ExecuteTime": {
     "end_time": "2024-03-14T17:04:10.764625Z",
     "start_time": "2024-03-14T17:04:10.744149100Z"
    }
   },
   "id": "2dccdc5f8541485b"
  },
  {
   "cell_type": "code",
   "execution_count": 56,
   "outputs": [
    {
     "data": {
      "text/plain": "   geneID  chrom protein  start_pos    end_pos  length  \\\n0    7157     17     p53    7668421    7687490   19070   \n1     207     14    Akt1  104769349  104795748   26400   \n2    5925     13     pRb   48303751   48481890  178140   \n\n                   description biotype  \n0  can cause tumor if modified     hum  \n1                          boh     dog  \n2             rhythm and blues     cat  ",
      "text/html": "<div>\n<style scoped>\n    .dataframe tbody tr th:only-of-type {\n        vertical-align: middle;\n    }\n\n    .dataframe tbody tr th {\n        vertical-align: top;\n    }\n\n    .dataframe thead th {\n        text-align: right;\n    }\n</style>\n<table border=\"1\" class=\"dataframe\">\n  <thead>\n    <tr style=\"text-align: right;\">\n      <th></th>\n      <th>geneID</th>\n      <th>chrom</th>\n      <th>protein</th>\n      <th>start_pos</th>\n      <th>end_pos</th>\n      <th>length</th>\n      <th>description</th>\n      <th>biotype</th>\n    </tr>\n  </thead>\n  <tbody>\n    <tr>\n      <th>0</th>\n      <td>7157</td>\n      <td>17</td>\n      <td>p53</td>\n      <td>7668421</td>\n      <td>7687490</td>\n      <td>19070</td>\n      <td>can cause tumor if modified</td>\n      <td>hum</td>\n    </tr>\n    <tr>\n      <th>1</th>\n      <td>207</td>\n      <td>14</td>\n      <td>Akt1</td>\n      <td>104769349</td>\n      <td>104795748</td>\n      <td>26400</td>\n      <td>boh</td>\n      <td>dog</td>\n    </tr>\n    <tr>\n      <th>2</th>\n      <td>5925</td>\n      <td>13</td>\n      <td>pRb</td>\n      <td>48303751</td>\n      <td>48481890</td>\n      <td>178140</td>\n      <td>rhythm and blues</td>\n      <td>cat</td>\n    </tr>\n  </tbody>\n</table>\n</div>"
     },
     "execution_count": 56,
     "metadata": {},
     "output_type": "execute_result"
    }
   ],
   "source": [
    "shitty_genes = genes.merge(fake_genes, \n",
    "                           left_on = 'geneID', \n",
    "                           right_on= 'geneID',\n",
    "                           how = 'inner')\n",
    "shitty_genes"
   ],
   "metadata": {
    "collapsed": false,
    "ExecuteTime": {
     "end_time": "2024-03-14T17:07:57.523538400Z",
     "start_time": "2024-03-14T17:07:57.486751600Z"
    }
   },
   "id": "13099325ad2a5705"
  },
  {
   "cell_type": "markdown",
   "source": [
    "---\n",
    "---\n",
    "# SeaBorn\n",
    "\n",
    "---"
   ],
   "metadata": {
    "collapsed": false
   },
   "id": "374da0fba4bd750b"
  },
  {
   "cell_type": "code",
   "execution_count": null,
   "outputs": [],
   "source": [],
   "metadata": {
    "collapsed": false
   },
   "id": "23e2c557ced7a4dc"
  }
 ],
 "metadata": {
  "kernelspec": {
   "display_name": "Python 3",
   "language": "python",
   "name": "python3"
  },
  "language_info": {
   "codemirror_mode": {
    "name": "ipython",
    "version": 2
   },
   "file_extension": ".py",
   "mimetype": "text/x-python",
   "name": "python",
   "nbconvert_exporter": "python",
   "pygments_lexer": "ipython2",
   "version": "2.7.6"
  }
 },
 "nbformat": 4,
 "nbformat_minor": 5
}
