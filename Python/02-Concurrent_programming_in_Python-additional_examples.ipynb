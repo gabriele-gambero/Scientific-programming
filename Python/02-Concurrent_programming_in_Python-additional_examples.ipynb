{
 "cells": [
  {
   "cell_type": "code",
   "execution_count": null,
   "metadata": {},
   "outputs": [],
   "source": [
    "import threading \n",
    "import sys"
   ]
  },
  {
   "cell_type": "markdown",
   "metadata": {},
   "source": [
    "### Using multi-threading, implement a concurrent program with two threads: the first thread prints even numbers lower than N, the second thread prints odd numbers lower than N\n",
    "\n",
    "- What happens when N increases:  10, 100, 1000..?\n",
    "- Add a countdown in the main thread (from N to 0): how do the 3 threads synchronize?\n",
    "- Can we force the execution order: Even, Odd, Countdown ?"
   ]
  },
  {
   "cell_type": "code",
   "execution_count": null,
   "metadata": {
    "scrolled": false
   },
   "outputs": [],
   "source": [
    "N = 1000\n",
    "def thread_function(name,remainder,tojoin=None):\n",
    "    #if tojoin:\n",
    "    #    tojoin.join()\n",
    "    for i in range(N):\n",
    "        if i%2==remainder:\n",
    "            print(f\"Thread {name}: {i}\\n\", end='')\n",
    "            \n",
    "            \n",
    "te = threading.Thread(target=thread_function, args=(\"Even\", 0))\n",
    "to = threading.Thread(target=thread_function, args=(\"Odds\", 1,te))\n",
    "\n",
    "te.start()\n",
    "to.start()\n",
    "\n",
    "#to.join()\n",
    "\n",
    "for i in range(N,0, -1):\n",
    "    print(f\"Count Down: {i}\\n\", end='')"
   ]
  },
  {
   "cell_type": "markdown",
   "metadata": {},
   "source": [
    "### Create a multithreaded counter (4 threads). Each thread increments the counter by 1 for 1,000,000 times.\n",
    "- What is the main problem?\n",
    "- How to force the program to get to the correct result? If you force the program to get the correct result, does it take longer to execute? If so, why?"
   ]
  },
  {
   "cell_type": "code",
   "execution_count": null,
   "metadata": {},
   "outputs": [],
   "source": [
    "counter = 0\n",
    "\n",
    "#lock = threading.Lock()\n",
    "\n",
    "def increase_counter():\n",
    "    global counter\n",
    "    for i in range(1000000):\n",
    "        #lock.acquire()\n",
    "        counter = counter + 1\n",
    "        #lock.release()\n",
    "\n",
    "t1 = threading.Thread(target=increase_counter)\n",
    "t2 = threading.Thread(target=increase_counter)\n",
    "t3 = threading.Thread(target=increase_counter)\n",
    "t4 = threading.Thread(target=increase_counter)\n",
    "\n",
    "t1.start()\n",
    "t2.start()\n",
    "t3.start()\n",
    "t4.start()\n",
    "t1.join()\n",
    "t2.join()\n",
    "t3.join()\n",
    "t4.join()\n",
    "print(counter)\n",
    "\n",
    "# With locks it takes longer, because only one thread at a time can use the counter, \n",
    "# the other three threads have to wait!"
   ]
  },
  {
   "cell_type": "markdown",
   "metadata": {},
   "source": [
    "### Create a consumer/producer architecture, where both the consumer and the producer are run by threads\n",
    "\n",
    "Task: check the primality of numbers.\n",
    "The consumer adds tasks to a list (in form of the numbers to be checked) and the consumer performs these tasks (check the primality of the number). The list should be managed by a properly locked data structure.\n",
    "\n",
    "*Caveat: in Python you cannot kill threads, thus you may need to restart the Jupyter notebook's kernel to stop the execution ...*\n"
   ]
  },
  {
   "cell_type": "code",
   "execution_count": null,
   "metadata": {
    "scrolled": false
   },
   "outputs": [],
   "source": [
    "import random\n",
    "import time\n",
    "\n",
    "# Here, we define a new class for the task list; there are other possibilities\n",
    "class Storage:\n",
    "    def __init__(self):\n",
    "        self.list_tasks = []\n",
    "        self.lock = threading.Lock()\n",
    "    \n",
    "    def get_task(self):\n",
    "        self.lock.acquire()\n",
    "        t = None\n",
    "        if len(self.list_tasks) > 0:\n",
    "            t = self.list_tasks[0]\n",
    "            self.list_tasks = self.list_tasks[1:]\n",
    "        self.lock.release()\n",
    "        return t\n",
    "    \n",
    "    def add_task(self, t):\n",
    "        self.lock.acquire()\n",
    "        self.list_tasks.append(t)\n",
    "        print(f\"Added task {t}\")\n",
    "        self.lock.release()\n",
    "        \n",
    "storage = Storage()\n",
    "        \n",
    "def producer():\n",
    "    while True:\n",
    "        time.sleep(random.random())\n",
    "        storage.add_task(random.choice(range(10000)))\n",
    "\n",
    "def is_prime(n):\n",
    "    for i in range(2, int(n**.5 +1)):\n",
    "        if n%i == 0:\n",
    "            return False\n",
    "    return True\n",
    "\n",
    "def consumer():\n",
    "    while True:\n",
    "        time.sleep(random.random())\n",
    "        t = storage.get_task()\n",
    "        if t:\n",
    "            print(f\"The number {t} is {'' if is_prime(t) else 'not '}prime\\n\", end='')\n",
    "            \n",
    "t_prod = threading.Thread(target=producer)\n",
    "t_cons = threading.Thread(target=consumer)\n",
    "\n",
    "t_prod.start()\n",
    "t_cons.start()"
   ]
  },
  {
   "cell_type": "markdown",
   "metadata": {},
   "source": [
    "### Multiprocess Pool\n",
    "Create a program that generates a matrix of 200 rows and 50k columns of random numbers between 0 and 100k. Then compute the total sum of all squared values sequentially and in parallel. For parallel exectuion use a Pool of threads."
   ]
  },
  {
   "cell_type": "code",
   "execution_count": null,
   "metadata": {},
   "outputs": [],
   "source": [
    "import multiprocessing as mp\n",
    "import random\n",
    "\n",
    "matrix = []\n",
    "for i in range(200):\n",
    "    matrix.append(random.sample(range(100000), 50000))\n",
    "\n",
    "def sum_square(l):\n",
    "    total = 0\n",
    "    for e in l:\n",
    "        total+=e**2\n",
    "    return total\n",
    "\n",
    "starttime=time.time()\n",
    "print(sum(map(sum_square, matrix)))\n",
    "print(f\"sequential time: {time.time() - starttime}\")\n",
    "\n",
    "starttime=time.time()\n",
    "with mp.Pool(4) as p:\n",
    "    print(sum(p.map(sum_square, matrix)))\n",
    "print(f\"parallel time: {time.time() - starttime}\")"
   ]
  }
 ],
 "metadata": {
  "kernelspec": {
   "display_name": "Python 3",
   "language": "python",
   "name": "python3"
  },
  "language_info": {
   "codemirror_mode": {
    "name": "ipython",
    "version": 3
   },
   "file_extension": ".py",
   "mimetype": "text/x-python",
   "name": "python",
   "nbconvert_exporter": "python",
   "pygments_lexer": "ipython3",
   "version": "3.9.12"
  }
 },
 "nbformat": 4,
 "nbformat_minor": 4
}
